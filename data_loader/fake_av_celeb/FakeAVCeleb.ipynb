{
 "cells": [
  {
   "cell_type": "code",
   "execution_count": 23,
   "metadata": {},
   "outputs": [],
   "source": [
    "from collections import defaultdict\n",
    "import os\n",
    "data_root = \"../../../FakeAVCeleb/FakeVideo-RealAudio\"\n",
    "\n",
    "\n",
    "\n",
    "def _nested_dict():\n",
    "    \"\"\"Helper function to create nested defaultdict\"\"\"\n",
    "    return defaultdict(list)\n",
    "\n",
    "def extract_video_paths(data_root):\n",
    "    return_dict = defaultdict(list)\n",
    "    for root, dirs, files in os.walk(data_root):\n",
    "        for file in files:\n",
    "            if file.endswith(\".mp4\"):\n",
    "                # Extract components of the path\n",
    "                relative_path = os.path.relpath(os.path.join(root, file), data_root)\n",
    "\n",
    "                # Continent / sex / speaker_id / video_id.mp4\n",
    "                components = relative_path.split(os.sep)\n",
    "\n",
    "                if len(components) == 4:\n",
    "                    continent, sex, speaker_id, file_name = components\n",
    "\n",
    "                    # Construct file_id and video_path\n",
    "                    file_id = file_name.split(\".\")[\n",
    "                        0\n",
    "                    ]  # Remove file extension for file_id\n",
    "                    video_path = os.path.join(root, file)\n",
    "\n",
    "                    # Append to dictionary\n",
    "                    return_dict[speaker_id].append(\n",
    "                        {\n",
    "                            \"file_id\": file_id,\n",
    "                            \"video_path\": video_path,\n",
    "                            \"continent\": continent,\n",
    "                            \"sex\": sex,\n",
    "                        }\n",
    "                    )\n",
    "    return return_dict\n",
    "\n",
    "\n",
    "video_dict = extract_video_paths(data_root)\n"
   ]
  },
  {
   "cell_type": "code",
   "execution_count": 2,
   "metadata": {},
   "outputs": [
    {
     "ename": "TypeError",
     "evalue": "new(): invalid data type 'str'",
     "output_type": "error",
     "traceback": [
      "\u001b[1;31m---------------------------------------------------------------------------\u001b[0m",
      "\u001b[1;31mTypeError\u001b[0m                                 Traceback (most recent call last)",
      "Cell \u001b[1;32mIn[2], line 5\u001b[0m\n\u001b[0;32m      2\u001b[0m test \u001b[38;5;241m=\u001b[39m \u001b[38;5;124m\"\u001b[39m\u001b[38;5;124masd\u001b[39m\u001b[38;5;124m\"\u001b[39m\n\u001b[0;32m      3\u001b[0m test2 \u001b[38;5;241m=\u001b[39m \u001b[38;5;124m\"\u001b[39m\u001b[38;5;124mdddd\u001b[39m\u001b[38;5;124m\"\u001b[39m\n\u001b[1;32m----> 5\u001b[0m torch\u001b[38;5;241m.\u001b[39mstack([\u001b[43mtorch\u001b[49m\u001b[38;5;241;43m.\u001b[39;49m\u001b[43mtensor\u001b[49m\u001b[43m(\u001b[49m\u001b[43mtest\u001b[49m\u001b[43m,\u001b[49m\u001b[43m \u001b[49m\u001b[43mdtype\u001b[49m\u001b[38;5;241;43m=\u001b[39;49m\u001b[43mtorch\u001b[49m\u001b[38;5;241;43m.\u001b[39;49m\u001b[43mlong\u001b[49m\u001b[43m)\u001b[49m, torch\u001b[38;5;241m.\u001b[39mtensor(test2, dtype\u001b[38;5;241m=\u001b[39mtorch\u001b[38;5;241m.\u001b[39mlong)])\n",
      "\u001b[1;31mTypeError\u001b[0m: new(): invalid data type 'str'"
     ]
    }
   ],
   "source": [
    "import torch\n",
    "test = \"asd\"\n",
    "test2 = \"dddd\"\n",
    "\n",
    "torch.stack()"
   ]
  },
  {
   "cell_type": "code",
   "execution_count": null,
   "metadata": {},
   "outputs": [],
   "source": []
  }
 ],
 "metadata": {
  "kernelspec": {
   "display_name": "PL_MAI",
   "language": "python",
   "name": "python3"
  },
  "language_info": {
   "codemirror_mode": {
    "name": "ipython",
    "version": 3
   },
   "file_extension": ".py",
   "mimetype": "text/x-python",
   "name": "python",
   "nbconvert_exporter": "python",
   "pygments_lexer": "ipython3",
   "version": "3.12.7"
  }
 },
 "nbformat": 4,
 "nbformat_minor": 2
}
